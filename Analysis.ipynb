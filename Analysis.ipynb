{
 "cells": [
  {
   "cell_type": "code",
   "execution_count": 13,
   "metadata": {},
   "outputs": [],
   "source": [
    "import time\n",
    "import string\n",
    "import re\n",
    "import numpy as np\n",
    "import pandas as pd\n",
    "import json\n",
    "import os\n",
    "import math"
   ]
  },
  {
   "cell_type": "code",
   "execution_count": 54,
   "metadata": {},
   "outputs": [
    {
     "data": {
      "text/plain": [
       "'and mmmth  pica plug    type  tcs  9mm type    and mmmth  pica plug    type  tcs  9mm type    and mmmth  pica plug  type    mmmth  pica plug  type    mmmth  pica plug  type    mmmth  pica plug  type    mmmth  pica plug  type    mmmth9  pica plug  type    mmmth  pica plug  type    mmmth  pica plug  type    mmmpb low pressure transducer  variable reluctance transducer with external rtd for temperaturemtb  slav plug   type  tcs   mmmtb  slav plug  type    mmmtb  slav plug  type    mmmtb  slav plug  type    mmmtb  slav plug  type    mmmtb  slav plug  type    mmmtb heatflux sensor   schmidtboelter with surface tcmtb heatflux sensor   schmidtboelter with surface tcmtb9 radiometer   sapphire window over schmidtboelter with surface tcstagnation and turbulent heatingstagnation pressurebackshell pressure and heatingsymmetric acreageheatingbackshell radiationrtdp prioritiesmars  entry descent  landing edlmedli operatesm cameras operatemedli sensor support electronics sse measure'"
      ]
     },
     "execution_count": 54,
     "metadata": {},
     "output_type": "execute_result"
    }
   ],
   "source": [
    "sample = \"and mmmth tc pica plug    type r tcs at 9mm type k at mm and mmmth tc pica plug    type r tcs at 9mm type k at mm and mmmth tc pica plug  type k tc at mmmth tc pica plug  type k tc at mmmth tc pica plug  type k tc at mmmth tc pica plug  type k tc at mmmth tc pica plug  type k tc at mmmth9 tc pica plug  type k tc at mmmth tc pica plug  type k tc at mmmth tc pica plug  type k tc at mmmpb low pressure transducer  variable reluctance transducer with external rtd for temperaturemtb tc slav plug   type k tcs at mm mmmtb tc slav plug  type k tc at mmmtb tc slav plug  type k tc at mmmtb tc slav plug  type k tc at mmmtb tc slav plug  type k tc at mmmtb tc slav plug  type k tc at mmmtb heatflux sensor   schmidtboelter with surface tcmtb heatflux sensor   schmidtboelter with surface tcmtb9 radiometer   sapphire window over schmidtboelter with surface tcstagnation and turbulent heatingstagnation pressurebackshell pressure and heatingsymmetric acreageheatingbackshell radiationrtdp prioritiesmars  entry descent  landing edlmedli operatesm cameras operatemedli sensor support electronics sse measure\"\n",
    "re.sub(r\"(\\b[a-z]{2}\\b|\\b[a-z]{1}\\b)\", \"\",sample)"
   ]
  },
  {
   "cell_type": "code",
   "execution_count": 60,
   "metadata": {},
   "outputs": [],
   "source": [
    "def clean(text):\n",
    "    # text = re.sub(\"[^-9A-Za-z ]\", \"\" , text)\n",
    "    # text = re.sub(r\"(\\b[a-z]{2}\\b|\\b[a-z]{1}\\b)\", \"\", text)\n",
    "    # test = re.sub(r\"\\s{2,}\", \" \", text)\n",
    "    # text = \"\".join([i.lower() for i in text if i not in string.punctuation])\n",
    "    return text"
   ]
  },
  {
   "cell_type": "code",
   "execution_count": 63,
   "metadata": {},
   "outputs": [],
   "source": [
    "filenames = os.listdir(\"data/Aerothermodynamics\")\n",
    "\n",
    "texts = {}\n",
    "\n",
    "for filename in filenames[:10]:\n",
    "    with open(f\"data/Aerothermodynamics/{filename}\") as f:\n",
    "        text = f.read()\n",
    "        texts[filename.split(\".\")[0]] = clean(text)"
   ]
  },
  {
   "cell_type": "code",
   "execution_count": 65,
   "metadata": {},
   "outputs": [
    {
     "data": {
      "text/plain": [
       "'powerpoint presentationnational aeronautics and space administrationmars entry instrumentation flight data and mars  entry environmentsaiaa scitech conference mars  edl performance and instrumentation atmosphere aerodynamics and trajectory afmtpjanuary  todd white milad mahzari chun tang josh monk jose santosnasa ameschris karlgaardama incorporated  nasa langleyhannah alpertama incorporated  nasa ameshenry wright chris kuhlnasa langleybackground  edl instrumentation planetary entry probe missions are complex costly and infrequent it  important  the entry descent and landing edl and planetary exploration community  understand the entry environments performance  the entry vehicle and atmospheric density and winds flight instrumentation provides  valuable dataset  understand the flown environment beyond  binary  worked   failed areas  design conservatism accuracy and limitations  our statetheart predictive simulations and experiments this data can  used for improved reliability thermal protection system tps mass reductions and more accurate landing operations for future vehicles todays talk describes the most recent edl instrumentation suite medli which will  the focus  the other papers and presentations  this session the mars  included medli instrumentation suite focused  entry atmospheric aerodynamic aerothermal and thermal protection system measurements medli was  collaboration between larc pm pressure sensors electronics se arc pi thermal sensors and jpl accommodation aboard msupersonictransducerinstrumentation  m aeroshell  medli builds  success  mslmedli and greatly extends the range coverage and type  measurements   made during martian entry like mslmedli medli has three major hardware components for sensing and processing the entry environment meads mars entry atmospheric data system network  pressure transducers  the heatshield and backshell these were  combination  hypersonic supersonic and lowpressure sensors misp medli instrumented sensor plugs network  hightemperature thermocouples tcs embedded  thermal protection system plugs installed across the pica heatshield and slav backshell  two types  sensors for directly measuring incident heating  the backshell total heating and radiative only sse sensor support electronics multiplexing avionics for gathering processing and transferring misp and meads sensor data  the mars  descent stage power and analog module dpam also included harness between sse and sensors and from sse  the dpam aiaa scitechpica plugsla plug heatflux sensorradiometerbackshelltransducerhypersonictransducerdigital and analogboardsmedli sensor locations  mars  measurement priorities and sensor locations were informed  mslmedli flight data mars entry atmospheric data system meads meads heatshield sensors were placed  optimize reconstructed vehicle angle  attack  sideslip  and atmospheric density backshell meads port location was informed  earlier instrumented ballistic range testing medli integrated sensor plug misp misp sensors  the heatshield were placed  capture acreage turbulent flowfield transition most plugs include  single tc some include multiple tcs  evaluate depth ablator performance backshell misp were placed  capture different types aeroheating  regions  attached and detached flow particular focus  measuring radiative heating predicted   the dominant heating mechanism for much  the backshell medli naming convention designate sensor locations and type   mpb meads pressure  backshell mth misp thermal  heatshield multiple measurements  location noted with dashes  mth  second tc from surface  mth location aiaa scitechheatshieldbackshellwindsideleesidewindsideleesidestagnationregionmedli science channels medli recorded  minutes  edl data   heatshield separation most sensors data returned  hz with slower responding temperature measurements  hz pressure transducers were filtered heatflux sensors and radiometer  hz medli limited realtime data product rtdp was telemetered  hz during entry shown  green  case  failure during  after edl aiaa scitechname type data rates hz notesmph hypersonic pressure transducer   medli spare hypersonic transducer straingage basedmph supersonic pressure transducer   piezo resistive transducer with internal temperature sensormph supersonic pressure transducer   piezo resistive transducer with internal temperature sensormph supersonic pressure transducer   piezo resistive transducer with internal temperature sensormph supersonic pressure transducer   piezo resistive transducer with internal temperature sensormph supersonic pressure transducer   piezo resistive transducer with internal temperature sensormph supersonic pressure transducer   piezo resistive transducer with internal temperature sensormth tc pica plug    type r tcs  9mm type k   and mmmth tc pica plug    type r tcs  9mm type k   and mmmth tc pica plug    type r tcs  9mm type k   and mmmth tc pica plug  type k tc  mmmth tc pica plug  type k tc  mmmth tc pica plug  type k tc  mmmth tc pica plug  type k tc  mmmth tc pica plug  type k tc  mmmth9 tc pica plug  type k tc  mmmth tc pica plug  type k tc  mmmth tc pica plug  type k tc  mmmpb low pressure transducer  variable reluctance transducer with external rtd for temperaturemtb tc slav plug   type k tcs   mmmtb tc slav plug  type k tc  mmmtb tc slav plug  type k tc  mmmtb tc slav plug  type k tc  mmmtb tc slav plug  type k tc  mmmtb tc slav plug  type k tc  mmmtb heatflux sensor   schmidtboelter with surface tcmtb heatflux sensor   schmidtboelter with surface tcmtb9 radiometer   sapphire window over schmidtboelter with surface tcstagnation and turbulent heatingstagnation pressurebackshell pressure and heatingsymmetric acreageheatingbackshell radiationrtdp prioritiesmars  entry descent  landing edlmedli operatesm cameras operatemedli sensor support electronics sse measured  minutes  data including events such  cruise stage separation entry peak heating deceleration and parachute deploymentmedli electronics ssemedli intrainstrumentharnessingmedli pressure transducersmedli thermal plugflight data meads pressures pressure transducer magnitudes and relative values consistent with preentry predictions supersonic transducers saturated  expected around  kpa returned clean data pre and post pressure pulse inflight zeros were consistent with cruise checkouts vehicle attitude changes clearly observable  deltas between supersonic stagnation point mph and other supersonic transducers mph through mph backshell pressure transducer mpb measurement excellent measurements have already fed into  updated drag model for flight mechanics simulations processing  mv  kpa includes calibration accounting for both temperature and transducer hysteresis removal  spikes due  pyroshock events hysteresis effects from dynamic pressure pulse testing were determined after entry  flight spares cfd predictions  surface pressure are used for minor corrections  the final medli values see karlgaard mars entry descent and landing instrumentation  trajectory aerodynamics and atmosphere reconstruction aiaa scitechfinal processed heatshield pressures heatshield pressures deltas backshell pressuresufra  on chutetransducers saturatedvehicle attitudechangesrcs firingstransducers saturatedflight data misp heatshield temperatures flight tc data interpreted with direct and inverse estimated techniques from direct  observe model predictions  deeper tc from flight data much better with medlirefined model  deg but still overpredict flight data from inverse heatshield external surface temperatures peaked   c  9 wcm for reference design heatflux   wcm though bestestimated analysis has peak   wcm   flow field transition shows  clearly  well and order  transition  mth plugs  expected transition starts   seconds from ei  the leeside shoulder mth and  the most outboard forward locations mtb and mtb  seconds later for more details see papers  monk tang alpert and edquist  this session aiaa scitechwater phase transition indepth tcslaminar  turbulenttransitionshallowesttcs  highheating region flight data tc signals were smooth with peak tc temperatures remaining under  c and all tcs remained within their measurement ranges clearly indicates recession      all misp locations consistent with observed behavior  the nusil coating  pica which inhibits recession heating across the heatshield appeared   symmetric  well  mthmth and mthmth pairs within  c prior  transition  c afterfinal heatshield tc dataflight data misp backshell temperatures trend  increasing peak temperatures moving from windside  leeside from mtb mtb and mtb consistent with estimates  increasing importance  radiative heating moving from windside  leeside no obvious signs  rapid changes due  transition  separation line movement during entry from direct analysis can only directly compare  mtb but observe good model agreement with peak though overpredicting flight data from inverse estimation hotwall backshell surface temperatures peaked   c   wcm for reference design heatflux   wcm though bestestimated analysis has peak   wcm more detail  monk tang alpert and edquist  this session aiaa scitech9indepth tcleeside hottestsecond cone cooler backshell flight tc signals were smooth with peak tc temperatures remaining under  c variation  initial temperature  noticeable due  m attitude relative  the sun prior  entry mild gradient through tps  mtb  c cooler  deeper into tps mtb leeside centerline saw greatest temperature rise during entry aeroheating pulse the leeside clearly experienced higher heating than the windside lowest peak temperature  mtb  centerline  the second conefinal backshell tc datamisp backshell direct heatflux flight data  like the backshell tcs the heatflux sensor measurements confirm the leeside  the backshell experienced higher peak heating than the windside the measured peak total heating  the windside and leeside  the m heatshield are well predicted  current state  the art models dplrneqair when tip and surrounding tps temperatures are included  the simulations the radiometer clearly measured backshell radiation solidly confirming the importance  co midwave infrared radiation  mars  open questions   the exact degree  ablation products blockage  medli radiometer  estimate degree  blockage during flight  inferred     though  wider range  blockage has been observed  other ground tests ruth however the combination  heatflux sensor mtb and radiometer mtb9 effectively bound aftbody leeside radiation mtb heatflux sensor measures total heating and  insensitive  ablation products upper bound   wcm  radiation mtb9 radiometer provides  lower bound  radiation  ablation products only decrease measurement  true radiation  lower bound  peak   wcm aiaa scitech more details  miller medli misp measured aftbody aerothermal environmentsbackshell direct sensor signals and tip temperatures backshell heatfluxbounds  peak radiationrcs firingsimplications for modeling and future missions characterization  flight sensors  key pressure transducers due  schedule issues medli performed dynamic pressure pulse testing after entry  flight spares   this complicated reconstruction and future missions should perform before launch instrumented tps plugs medli conducted material property testing and refined model development for pica and slav  this turned out   key  reducing uncertainties however complications remain due  the thin nusil layer coating pica plugs even with refined materialspecific ablator models  still observe bias towards overpredicting depth tps temperatures could  partially attributable  water phase change backshell environments are clearly radiation dominated  predicted the inverse estimated heating magnitudes and profiles are consistent with margined cfd and radiation predictions medli heatshield tc data make  compelling case for accurately predicting onset  transition for mslclass entry vehicles especially when combined with mslmedli dataset aiaa scitechconclusions medli represented nasas most ambitious edl instrumentation effort  mars  provide crucial insights into the edl performance  the heaviest mars lander  date  all medli sensors and electronics performed  designed and the sensors confirmed the excellent overall entry performance  the mars  aeroshell the medli sensor suite returned  wealth  entry pressure temperature and heating information  improve the next generation  edl models and entry missions the medli data and reconstruction revealed supersonic winds blunt body wake drag spatiallyresolved heatshield transition and backshell radiative heating   medli has provided  incredibly useful engineering dataset for immediate assessment  mars  performance and will   further resource for improving future edl missions and modeling medli flight data will  made publicly available following this aiaa conference aiaa scitechquestions for more information check out these papers and presentations atmosphere and trajectory reconstructoin focus postflight analysis  atmospheric properties from mars  entry descent and landing dutta karlgaard kass villar mischna assessment  the mars  entry descent and landing simulation way dutta zumwalt blette mars entry descent and landing instrumentation  trajectory aerodynamics and atmosphere reconstruction karlgaard schoenenberger dutta way aerothermal and tps focus medli material response model development and validation monk feldman mahzari white prabhu alpert inverse estimation  mars  entry aeroheating environments using medli flight data alpert mahzari saunders monk white medli misp measured aftbody aerothermal environments miller  tang white cruden medli misp inferred aerothermal environment and flow transition assessment tang mahzari prabhu alpert cruden mars  reconstructed aerothermal environments and design margins edquist mahzari alpert aiaa scitechbackup materials aiaa scitechfirst view  medli after launchmedli intrainstrumentharnessingbackside  heatshield after jettisonmedli electronics ssemedli intrainstrumentharnessingmedli pressure transducersmedli thermal pluglander vision system watches heatshieldgoing goingm heatshieldgonemars entry instrumentation flight data and mars  entry envibackground  edl instrumentationinstrumentation  m aeroshellmedli sensor locations  mars medli science channelsmars  entry descent  landing edlflight data meads pressuresflight data misp heatshield temperaturesflight data misp backshell temperaturesmisp backshell direct heatflux flight dataimplications for modeling and future missionsconclusionsquestionsbackup materialsfirst view  medli after launchbackside  heatshield after jettisonlander vision system watches heatshieldgoing goinggone'"
      ]
     },
     "execution_count": 65,
     "metadata": {},
     "output_type": "execute_result"
    }
   ],
   "source": [
    "texts[\"20210025518\"]"
   ]
  },
  {
   "cell_type": "code",
   "execution_count": null,
   "metadata": {},
   "outputs": [],
   "source": []
  }
 ],
 "metadata": {
  "kernelspec": {
   "display_name": "Python 3.10.6 ('venv': venv)",
   "language": "python",
   "name": "python3"
  },
  "language_info": {
   "codemirror_mode": {
    "name": "ipython",
    "version": 3
   },
   "file_extension": ".py",
   "mimetype": "text/x-python",
   "name": "python",
   "nbconvert_exporter": "python",
   "pygments_lexer": "ipython3",
   "version": "3.10.6"
  },
  "orig_nbformat": 4,
  "vscode": {
   "interpreter": {
    "hash": "714f120e916982c9dc701e16014628e0450b217a4b9e82832580a5098815487e"
   }
  }
 },
 "nbformat": 4,
 "nbformat_minor": 2
}
