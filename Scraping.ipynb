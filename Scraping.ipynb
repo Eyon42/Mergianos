{
 "cells": [
  {
   "cell_type": "code",
   "execution_count": 51,
   "metadata": {},
   "outputs": [],
   "source": [
    "import requests\n",
    "from requests.structures import CaseInsensitiveDict\n",
    "import numpy as np\n",
    "import pandas as pd\n",
    "import json\n",
    "import math"
   ]
  },
  {
   "cell_type": "code",
   "execution_count": 10,
   "metadata": {},
   "outputs": [],
   "source": [
    "searchSchema = {\n",
    "  \n",
    "  \"index\": \"string\",\n",
    "  \"stiType\": \"STI_TYPE_NONE\",\n",
    "  \"disseminated\": \"NONE\",\n",
    "  \"distribution\": \"PUBLIC\",\n",
    "  \"created\": {\n",
    "    \"gt\": \"string\",\n",
    "    \"gte\": \"string\",\n",
    "    \"lt\": \"string\",\n",
    "    \"lte\": \"string\",\n",
    "    \"format\": \"string\"\n",
    "  },\n",
    "  \"published\": {\n",
    "    \"gt\": \"string\",\n",
    "    \"gte\": \"string\",\n",
    "    \"lt\": \"string\",\n",
    "    \"lte\": \"string\",\n",
    "    \"format\": \"string\"\n",
    "  },\n",
    "  \"modified\": {\n",
    "    \"gt\": \"string\",\n",
    "    \"gte\": \"string\",\n",
    "    \"lt\": \"string\",\n",
    "    \"lte\": \"string\",\n",
    "    \"format\": \"string\"\n",
    "  },\n",
    "  \"author\": [\n",
    "    \"string\"\n",
    "  ],\n",
    "  \"center\": [\n",
    "    \"string\"\n",
    "  ],\n",
    "  \"organization\": [\n",
    "    \"string\"\n",
    "  ],\n",
    "  \"subjectCategory\": [\n",
    "    \"string\"\n",
    "  ],\n",
    "  \"reportNumber\": [\n",
    "    \"string\"\n",
    "  ],\n",
    "  \"fundingNumber\": [\n",
    "    \"string\"\n",
    "  ],\n",
    "  \"keyword\": [\n",
    "    \"string\"\n",
    "  ],\n",
    "  \"page\": {\n",
    "    \"size\": 100,\n",
    "    \"from\": 0\n",
    "  },\n",
    "  \"sort\": {\n",
    "    \"field\": \"string\",\n",
    "    \"order\": \"asc\"\n",
    "  },\n",
    "  \"highlight\": True,\n",
    "  \"q\": \"string\",\n",
    "  \"title\": \"string\",\n",
    "  \"abstract\": \"string\",\n",
    "  \"stiTypeDetails\": \"string\"\n",
    "}"
   ]
  },
  {
   "cell_type": "code",
   "execution_count": 65,
   "metadata": {},
   "outputs": [],
   "source": [
    "documents = []\n",
    "with open(\"data/Aerothermodynamics.json\") as f:\n",
    "    documents = json.load(f)"
   ]
  },
  {
   "cell_type": "code",
   "execution_count": 68,
   "metadata": {},
   "outputs": [],
   "source": [
    "if not documents:\n",
    "  url = \"https://ntrs.nasa.gov/api/citations/search?skip=25\"\n",
    "\n",
    "  headers = CaseInsensitiveDict()\n",
    "  headers[\"accept\"] = \"application/json\"\n",
    "  headers[\"Content-Type\"] = \"application/json\"\n",
    "\n",
    "  data = {\n",
    "    \"q\": \"Aerothermodynamics\",\n",
    "    \"page\":{\"size\":100,\"from\":0}\n",
    "  }\n",
    "\n",
    "  i_resp = requests.post(url, headers=headers, data=json.dumps(data))\n",
    "  documents += i_resp.json()[\"results\"]\n",
    "  for i in range(100, math.ceil(i_resp.json()[\"stats\"][\"total\"]), 100):\n",
    "    data[\"page\"][\"from\"] = i\n",
    "    resp = requests.post(url, headers=headers, data=json.dumps(data))\n",
    "    documents += resp.json()[\"results\"]\n",
    "\n"
   ]
  },
  {
   "cell_type": "code",
   "execution_count": 38,
   "metadata": {},
   "outputs": [
    {
     "data": {
      "text/plain": [
       "dict_keys(['stats', 'results', 'aggregations'])"
      ]
     },
     "execution_count": 38,
     "metadata": {},
     "output_type": "execute_result"
    }
   ],
   "source": [
    "resp.json().keys()"
   ]
  },
  {
   "cell_type": "code",
   "execution_count": 49,
   "metadata": {},
   "outputs": [
    {
     "data": {
      "text/plain": [
       "{'took': 172, 'total': 2692, 'estimate': False, 'maxScore': 142.17043}"
      ]
     },
     "execution_count": 49,
     "metadata": {},
     "output_type": "execute_result"
    }
   ],
   "source": [
    "resp.json()[\"stats\"]"
   ]
  },
  {
   "cell_type": "code",
   "execution_count": 48,
   "metadata": {},
   "outputs": [
    {
     "data": {
      "text/plain": [
       "100"
      ]
     },
     "execution_count": 48,
     "metadata": {},
     "output_type": "execute_result"
    }
   ],
   "source": [
    "len(resp.json()[\"results\"])"
   ]
  },
  {
   "cell_type": "code",
   "execution_count": 69,
   "metadata": {},
   "outputs": [
    {
     "data": {
      "text/plain": [
       "2692"
      ]
     },
     "execution_count": 69,
     "metadata": {},
     "output_type": "execute_result"
    }
   ],
   "source": [
    "len(documents)"
   ]
  },
  {
   "cell_type": "code",
   "execution_count": 70,
   "metadata": {},
   "outputs": [],
   "source": [
    "with open(\"data/Aerothermodynamics.json\", \"w\") as f:\n",
    "    json.dump(documents, f, indent=4)"
   ]
  },
  {
   "cell_type": "code",
   "execution_count": null,
   "metadata": {},
   "outputs": [],
   "source": []
  }
 ],
 "metadata": {
  "kernelspec": {
   "display_name": "Python 3.10.6 ('venv': venv)",
   "language": "python",
   "name": "python3"
  },
  "language_info": {
   "codemirror_mode": {
    "name": "ipython",
    "version": 3
   },
   "file_extension": ".py",
   "mimetype": "text/x-python",
   "name": "python",
   "nbconvert_exporter": "python",
   "pygments_lexer": "ipython3",
   "version": "3.10.6"
  },
  "orig_nbformat": 4,
  "vscode": {
   "interpreter": {
    "hash": "714f120e916982c9dc701e16014628e0450b217a4b9e82832580a5098815487e"
   }
  }
 },
 "nbformat": 4,
 "nbformat_minor": 2
}
